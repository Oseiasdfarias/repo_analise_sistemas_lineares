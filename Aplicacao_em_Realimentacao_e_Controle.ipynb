{
 "cells": [
  {
   "cell_type": "markdown",
   "metadata": {
    "colab_type": "text",
    "id": "view-in-github"
   },
   "source": [
    "<a href=\"https://colab.research.google.com/github/Oseiasdfarias/repo_analise_sistemas_lineares/blob/main/Aplicacao_em_Realimentacao_e_Controle.ipynb\" target=\"_parent\"><img src=\"https://colab.research.google.com/assets/colab-badge.svg\" alt=\"Open In Colab\"/></a>"
   ]
  },
  {
   "cell_type": "markdown",
   "metadata": {
    "id": "WP-Sq4pXvtpl"
   },
   "source": [
    "<center><img src=\"https://security.ufpb.br/educacaofinanceira/contents/imagens/brasoes-universidades/ufpa.png/@@images/image.png\" width=\"100\"></center>\n",
    "\n",
    "#### <center> **UNIVERSIDADE FEDERAL DO PARÁ** </center>\n",
    "#### <center> **CAMPUS UNIVERSITÁRIO DE TUCURUÍ** </center>\n",
    "#### <center> **FACULDADE DE ENGENHARIA ELÉTRICA** </center>\n",
    "#### <center> **ANÁLISE DE SISTEMAS LINEARES** </center>\n",
    "#### <center> **SINAIS E SISTEMAS** </center>\n",
    "\n",
    "\n",
    "### **Professor:** \n",
    "- Cleison Silva\n",
    "\n",
    "\n",
    "### **Alunos:** \n",
    "- Andrez Müller Miranda Barreto\n",
    "- Edson Davi Oliveira de Melo\n",
    "- Joelia Cruz Rodrigues\n",
    "- Oséias Dias de Farias\n",
    "- Quezia Monteiro da Silva\n",
    "- Thalia Damasceno Barroso\n",
    "\n",
    "\n",
    "\n",
    "\n",
    "\n",
    "<br/>\n",
    "<br/>\n",
    "<br/>\n",
    "\n"
   ]
  },
  {
   "cell_type": "markdown",
   "metadata": {
    "id": "3eCzSM9ZgY5H"
   },
   "source": [
    "# <center> **TEMA:** </center>\n",
    "## <center> **ANÁLISE DE SISTEMAS LINEARES** </center>\n",
    "## <center> **APLICAÇÃO EM REALIMENTAÇÃO E CONTROLE** </center>\n",
    "\n",
    "\n",
    "<br/>\n",
    "<br/>\n",
    "<br/>\n"
   ]
  },
  {
   "cell_type": "markdown",
   "metadata": {
    "id": "JFRYKXTogG2P"
   },
   "source": [
    "# <center> **VÍDEO AULA** </center>"
   ]
  },
  {
   "cell_type": "markdown",
   "metadata": {
    "id": "RYxSnpYbpzKY"
   },
   "source": [
    "[![Watch the video](https://github.com/Oseiasdfarias/repo_analise_sistemas_lineares/blob/main/utils/colab/tela_video.png?raw=true)](https://drive.google.com/file/d/1uhz6B5ggug2rPS-C5xYQyxF8og46ejyU/view?usp=sharing)\n",
    "\n",
    "<br/><br/><br/>\n"
   ]
  },
  {
   "cell_type": "markdown",
   "metadata": {
    "id": "bak_6Ah47Uz-"
   },
   "source": [
    "# <center> **REVISÃO TEÓRICA** </center>"
   ]
  },
  {
   "cell_type": "markdown",
   "metadata": {
    "id": "W3MYzmBa7mOu"
   },
   "source": [
    "## **O que é um sistema?**"
   ]
  },
  {
   "cell_type": "markdown",
   "metadata": {
    "id": "tWr4SZZR9ff9"
   },
   "source": [
    "> **Sistema** é um conjunto de componentes que atuam juntos realizando determinada finalidade. Um sistema pode ser constituído de subsistemas, e pode também ser parte de um sistema maior. Pode ser físico, biológico, econômico, etc.\n",
    "\n",
    "> Como exemplo, podemos dizer que o corpo humano é um sistema composto por subsistemas; sistema respiratório, sistema nervoso, sistema gástrico etc."
   ]
  },
  {
   "cell_type": "markdown",
   "metadata": {
    "id": "DyGGa4Xd-YGa"
   },
   "source": [
    "## **O que é Sistema de Controle?**"
   ]
  },
  {
   "cell_type": "markdown",
   "metadata": {
    "id": "daoqE7h8-icT"
   },
   "source": [
    "\n",
    "> **K. Ogata - Engenharia de Controle Moderno. Afirma que:**\n",
    "\n",
    ">> _Um sistema que estabeleça uma relação de comparação entre uma saída e uma entrada de referência, utilizando a diferença como meio de controle, é denominado Sistema de Controle…_\n",
    "\n",
    "<br/>\n",
    "\n",
    "> **N. S. Nise - Engenharia de Sistemas de Controle. Afirma que:**\n",
    "\n",
    "\n",
    ">> *Um sistema de controle consiste em subsistemas e processos construídos com objetivo de se obter uma saída desejada, com desempenho desejado para uma entrada específica fornecida.*\n",
    "\n",
    " <br/>\n",
    "\n",
    "\n",
    "> Os **sistemas de controle** são representados graficamente por blocos. O bloco de uma componente é sintetizado por um sinal de entrada, que é modificado, resultando é um sinal de saída.\n",
    "\n",
    " <br/> <br/> \n",
    "\n",
    "<center><img src=\"https://github.com/Oseiasdfarias/repo_analise_sistemas_lineares/blob/main/utils/Diagrama_sistemas/sistema.png?raw=true\" width=\"900\"></center>\n",
    "\n",
    " <br/> <br/> \n",
    "\n",
    "\n",
    "> - A **entrada** é o estímulo, a excitação ou comando aplicado a um sistema de controle por meio de uma fonte de energia externa, geralmente de modo a produzir uma resposta específica a partir do sistema de controle.\n",
    "\n",
    " <br/> \n",
    " \n",
    "> - A **saída** é a resposta atual obtida de um sistema de controle. Ela pode ser ou não igual a resposta específica inferida da entrada.\n",
    "\n",
    " <br/> \n",
    "\n",
    "> #### **Exemplo 1: Chave Elétrica**\n",
    "\n",
    ">> É um sistema de controle artificial que controla o fluxo da eletricidade. Por definição, o aparelho ou pessoa que aciona a chave não é uma parte desse sistema de controle.\n",
    "O acionamento da chave para ligá-la ou desligá-la pode ser considerado como a entrada. Ou seja, a entrada pode estar em um dos dois estados - ligado ou desligado. A saída é a existência do fluxo de eletricidade ou a ausência dele (dois estados).\n",
    "A chave elétrica é provavelmente um dos sistemas de controle mais rudimentares.\n",
    "\n",
    "<br/>\n",
    "\n",
    "> #### **Exemplo 2: Apontar para um objeto com o dedo**\n",
    "\n",
    ">> O ato aparentemente simples, requer um sistema de controle biológico constituído principalmente dos olhos, do braço, da mão, do dedo e do cérebro de uma pessoa. A entrada é a direção precisa do objeto (deslocando-se ou não) em relação a alguma referência e a saída é a direção atual apontada em relação à mesma referência.\n",
    "\n",
    "<br/>\n"
   ]
  },
  {
   "cell_type": "markdown",
   "metadata": {
    "id": "rchXAA9f_YWY"
   },
   "source": [
    "<br/><br/>\n",
    "\n",
    "## <center> **Sistemas de Controle em Malha Aberta e em Malha Fechada.** <center/>\n",
    "\n",
    "<br/>\n"
   ]
  },
  {
   "cell_type": "markdown",
   "metadata": {
    "id": "tI3AJWD4K5PT"
   },
   "source": [
    "> ### **Sistema em malha aberta**\n",
    ">> Sistema em **malha aberta** é aquele em que a saída ou resposta não possui nenhuma influência sobre a entrada, ou seja, o controle ocorre diretamente sem a utilização de realimentação. \n",
    "\n",
    "<br/>\n",
    "\n",
    "> - **Controlador:** composto por um elemento de controle e um elemento de correção que envia um ou mais sinais do processo, conforme os ajustes predeterminados, para se obter a saída desejada.\n",
    "- **Processo:** sistema no qual a variável é controlada.\n",
    "\n",
    "\n",
    "<br/>  <br/> \n",
    "\n",
    "<center>\n",
    "<img src=\"https://github.com/Oseiasdfarias/repo_analise_sistemas_lineares/blob/main/utils/Diagrama_sistemas/sistemas_em_malha_aberta.png?raw=true\" width=\"900\">\n",
    "</center>\n",
    "\n",
    "<br/> <br/> \n",
    "\n",
    "> As principais vantagens desse tipo de malha são a simplicidade e o baixo custo. As desvantagens são a imprecisão devido à falta de realimentação.\n",
    "\n",
    "<br/>\n",
    "\n",
    "\n",
    "> #### **Exemplo: Torradeira Automática**\n",
    "\n",
    "> - São controladas por um temporizador.\n",
    "- O tempo exigido para fazer uma\"boa torrada\" deve ser determinado pelo usuário, que não é uma parte do sistema.\n",
    "- O controle sobre a qualidade da torrada (a saída) é removido uma vez que o tempo, que é ao mesmo tempo a entrada e a ação de controle, tenha sido ajustado.\n",
    "- O tempo é tipicamente ajustado por meio de um botão ou chave de calibração.\n",
    "\n",
    "<br/>\n",
    "\n",
    "---\n",
    "\n",
    "<br/>\n",
    "\n",
    "> ### **Sistema de Controle em malha fechada**\n",
    "\n",
    "<br/>\n",
    "\n",
    ">> Sistema em malha fechada, ou sistema de controle com realimentação, permite que a saída (ou alguma outra variável controlada do sistema) seja comparada com a entrada para o sistema ( ou uma entrada para outro componente situado internamente ou subsistema), de modo que a ação apropriada de controle pode ser formada como alguma função da saída e da entrada. Geralmente a realimentação é produzida em um sistema quando existe uma sequência fechada de relações de causa e efeito entre variáveis no sistema.\n",
    "\n",
    "<br/>\n",
    "\n",
    ">> **Os elementos básicos de uma malha fechada são:**\n",
    "\n",
    "<br/>\n",
    "\n",
    ">> - **Comparador:** compara o valor de referência com valor medido na saída que gera um sinal de erro indica o quanto sinal de saída está longe do sinal de entrada.\n",
    "\n",
    ">> - **Controlador:** determina a ação a ser tomada com base no erro enviado pelo comparador.\n",
    "\n",
    ">> - **Atuador:** a partir do sinal recebido do controlador, atua sobre a variável manipulada para ajustar e alterar a variável controlada de modo a corrigir o erro.\n",
    "\n",
    ">> - **Processo:** é o sistema no qual a variável está sendo controlada.\n",
    "\n",
    ">> - **Sensor:** lê a variável controlada na saída e envia sua condição na forma de sinal para o comparador, fechando o laço.\n",
    "\n",
    "<br/> <br/> \n",
    "\n",
    "<center><img src=\"https://github.com/Oseiasdfarias/repo_analise_sistemas_lineares/blob/main/utils/Diagrama_sistemas/sistemas_em_malha_fechada.png?raw=true\" width=\"900\"></center>\n",
    "\n",
    "<br/> <br/> \n"
   ]
  },
  {
   "cell_type": "markdown",
   "metadata": {
    "id": "wIkiHRzwTprF"
   },
   "source": [
    "> O controle em malha fechada pode ser realizado por um operador humano **(controle manual)** ou mediante a utilização de instrumentação **(controle automático)**.\n",
    "\n",
    "> - **Ser humano tentando pegar um objeto (controle manual)**\n",
    "\n",
    "\n",
    "<br/> <br/> \n",
    "\n",
    "\n",
    "<center><img src=\"https://github.com/Oseiasdfarias/repo_analise_sistemas_lineares/blob/main/utils/Diagrama_sistemas/controle_manual.png?raw=true\" width=\"900\"></center>\n",
    "\n",
    "<br/> <br/> \n",
    "\n",
    "\n",
    "\n",
    "> - **Controle do nível de um reservatório (controle automático).**\n",
    "\n",
    "<br/> <br/> \n",
    "\n",
    "\n",
    "<center><img src=\"https://github.com/Oseiasdfarias/repo_analise_sistemas_lineares/blob/main/utils/Diagrama_sistemas/controle_automatico.png?raw=true\" width=\"900\"></center>\n",
    "\n",
    "<br/> <br/> \n",
    "\n",
    "> As ações executadas tanto pelo operador, como pelo processo automático são: medir, comparar, computar e corrigir.\n",
    "\n",
    "> A forma de execução e o tempo gasto para efetivação das ações de controle dependem, basicamente, do Sistema de Controle utilizado e das características do processo controlado.\n",
    "\n",
    "> Os sistemas em malha fechada apresentam uma sensibilidade a mudanças de carga muito menor do que o sistema em malha aberta e são, consequentemente, muito mais estáveis que as malhas abertas. Para que um sistema em malha fechada consiga reduzir o erro no decorrer do tempo, ele deve ser capaz de gerar internamente, a partir de um sinal de perturbação, um sinal a fim de cancelá-lo.\n",
    "\n",
    "> Esse tipo de malha apresenta como vantagens a compensação de erros, saída constante e maior precisão no processo. A complexidade e o maior custo são as desvantagens.\n",
    "\n",
    "<br/>\n",
    "\n",
    "> #### **Exemplo: Mecanismo do piloto automático de um avião**\n",
    "\n",
    "> - A sua finalidade é manter a rota do avião, a despeito das variações atmosféricas.\n",
    "- Ele executa essa tarefa medindo o continuamente orientação do avião, ajustando automaticamente suas superfícies de controle (Leme, aletas, etc), de modo a manter a orientação do avião em correspondência a rota determinada.\n",
    "- O piloto humano ou operador que pré-ajusta o piloto automático não é parte do sistema de controle.\n",
    "\n",
    "<br/>\n",
    "<br/>\n",
    "<br/>\n",
    "\n",
    "---\n",
    "\n",
    "<br/>\n",
    "<br/>\n",
    "<br/>"
   ]
  },
  {
   "cell_type": "markdown",
   "metadata": {
    "id": "jgKJU64s7lWI"
   },
   "source": [
    "\n",
    "## <center>**PID - Controlador Proporcional Integral Derivativo**<center/>"
   ]
  },
  {
   "cell_type": "markdown",
   "metadata": {
    "id": "a-yK2-mr8PSP"
   },
   "source": [
    "> O **Controlador PID** é uma técnica para controle de processos, esse controlador é composto por três partes, sendo elas, ação proporcional, integral e derivativa. Cada uma dessas ações gera um comportamento no sistema, a entrada para o controlador é o erro, a parte proporcional minimiza o erro, a parte integral zera o erro e a parte derivativa acelera o processo.\n",
    "\n",
    "> Exemplos de aplicações: Controle de estabilidade de Drones, estabilidade de voo em aeronaves, sistemas robotizados, etc.\n",
    "\n"
   ]
  },
  {
   "cell_type": "markdown",
   "metadata": {
    "id": "j5I_p1XG9aLL"
   },
   "source": [
    "### **Algorítimo PID Paralelo Clássico**\n",
    "\n",
    "<br/>  <br/>\n",
    "\n",
    "<center><img src=\"https://github.com/Oseiasdfarias/repo_analise_sistemas_lineares/blob/main/utils/Controlador_pid/diagrama_controlador_pid2.png?raw=true\" width=\"900\"></center>\n",
    "\n",
    "<br/> <br/> \n",
    "\n",
    "> **Onde:**\n",
    "\n",
    ">> $ K_p $: Ganho Proporcional\n",
    "\n",
    ">> $ K_i $: Ganho Integral\n",
    "\n",
    ">> $ K_d $: Ganho Derivativo\n",
    "\n",
    ">> $ e $:  Erro\n",
    "\n",
    ">> $ t $: Tempo\n",
    "\n",
    ">> $ \\tau $: Tempo de integração\n",
    "\n",
    "<br/>\n",
    "\n",
    "> Aplicando a transformada de Laplace, obtemos:\n",
    "\n",
    "\n",
    "$$ L(s)=K_p+\\frac{K_i}{s}+K+sd $$\n",
    "\n",
    "> **Onde:**\n",
    ">> $ s $: frequência complexa\n",
    "\n",
    "<br/>\n",
    "\n",
    "> Agora vamos enterder qual é a ação de cada parte do algoritmo.\n",
    "\n",
    "> #### **Ação Propocional**\n",
    "\n",
    ">> Essa ação tem como resultado um sinal que é propocional a amplitude do erro e(t) e sua constante de proporcionalidade é **_Kp_**.\n",
    "\n",
    "$$ Psaida=K_pe(t) $$\n",
    "\n",
    ">> Sabendo que a saida do sistema para a ação propocional é propocional ao erro, dessa forma, temos um erro não-nulo (erro de off-set) e seu valor é inversamente proporcional ao ganho **_Kp_**, o erro de off-se pode ser compensado acrescentando um terno ao valor de referencia ou pela ação integral.\n",
    "\n",
    "<br/>\n",
    "\n",
    "> #### **Ação Integral**\n",
    "\n",
    ">> Essa ação tem como resultado um sinal de saída que é proporcional à magnitude e à duração do erro, ou seja, ao erro acumulado. Isso fornece uma alternativa para corrigir o erro de off-set gerado pela ação proporcional e acelera a resposta do sistema, permitindo-o chegar ao valor de referência mais rapidamente. onde **_Ki_** é o ganho integral.\n",
    "\n",
    "\n",
    "$$ K_i\\int_0^t e(\\tau)\\;\\mathrm{d}\\tau $$\n",
    "\n",
    ">> A ação integral corrige o valor da variável manipulada em intervalos regulares, chamado tempo integral. Esse tempo integral é definido como o inverso do ganho integral. Se o ganho integral é baixo, o sistema pode levar muito tempo para atingir o valor de referência. No entanto, se o ganho integral for muito alto, o sistema pode tornar-se instável.\n",
    "\n",
    "<br/>\n",
    "\n",
    "> #### **Ação Derivativa**\n",
    "\n",
    ">> A ação derivativa produz um sinal de saída que é proporcional à velocidade de variação do erro:\n",
    "\n",
    "$$ Dsaida=K_d\\frac{\\partial f}{\\partial t}e(t) $$\n",
    "\n",
    ">> onde **_Kd_** é o ganho derivativo.\n",
    "\n",
    ">> A ação derivativa fornece uma correção antecipada do erro, diminuindo o tempo de resposta e melhorando a estabilidade do sistema.A ação derivativa atua em intervalos regulares, chamado tempo derivativo. Esse parâmetro é inversamente proporcional à velocidade de variação da variável controlada. Isso indica que a ação derivativa não deve ser utilizada em processos nos quais o sistema deve responder rapidamente a uma perturbação, nem em processos que apresentem muito ruído no sinal de medido, pois levaria o processo à instabilidade.\n",
    "\n",
    "\n",
    "\n",
    "<br/>\n",
    "<br/>\n",
    "<br/>\n",
    "\n",
    "---\n",
    "---\n",
    "\n",
    "<br/>\n",
    "<br/>\n",
    "<br/>\n",
    "\n"
   ]
  },
  {
   "cell_type": "markdown",
   "metadata": {
    "id": "HCEztE2F9swh"
   },
   "source": [
    "# <center>**APLICAÇÕES**<center/>\n",
    "\n",
    "<br/>\n",
    "<br/>\n"
   ]
  },
  {
   "cell_type": "markdown",
   "metadata": {
    "id": "VLia3ADjZe7w"
   },
   "source": [
    "\n",
    "<center><img src=\"https://github.com/Oseiasdfarias/repo_analise_sistemas_lineares/blob/main/utils/aplicacao_asl_controle_sistema/banner_Aplicacao_realimentacao_controle.png?raw=true\" width=\"1900\"></center>\n",
    "\n",
    "<br/> <br/> "
   ]
  },
  {
   "cell_type": "markdown",
   "metadata": {
    "id": "e9kZpSr7Q5e_"
   },
   "source": [
    "## **Aplicações em Engenharia**\n",
    "\n",
    "<br/>\n",
    "\n",
    "> ### **Automóveis**\n",
    "\n",
    ">> Os veículos modemos tem dezenas de sistemas de sensoriamento afim de proporcionar uma melhor experiencia para o dono do veiculo, os sinais desses sensores são processados por algoritimos que usam modelos de controle para obter uma deterninada saida.\n",
    "\n",
    "<br/>\n",
    "\n",
    "<center><img src=\"https://github.com/Oseiasdfarias/repo_analise_sistemas_lineares/blob/main/utils/aplicacao_asl_controle_sistema/Aplicacao_realimentacao_controle.png?raw=true\"width=\"600\"></center>\n",
    "\n",
    "<br/>\n",
    "\n",
    ">> ### **Exemplo de Sistemas de Controle em Veículos**\n",
    "\n",
    ">> + Injeção Eletrônica de Combustível\n",
    ">> + Localização GPS \n",
    ">> + Suspensão Ativa\n",
    ">> + Freios ABS\n",
    ">> + Controle de Velocidade de Cruzeiro\n",
    ">> + Airbags\n",
    ">> + Ajuste eletrônico dos assentos\n",
    ">> + Ajuste eletrônico dos espelhos\n",
    ">> + Cinto de Segurança Automático\n",
    ">> + Controle de temperature\n",
    "\n",
    "<br/>\n",
    "<br/>\n",
    "\n",
    "> ### **UAVs Multrotores (Drones)**\n",
    "\n",
    "<br/>\n",
    "\n",
    "<center><img src=\"https://github.com/Oseiasdfarias/repo_analise_sistemas_lineares/blob/main/utils/aplicacao_asl_controle_sistema/Aplicacao_realimentacao_controle_2.png?raw=true\"width=\"600\"></center>\n",
    "\n",
    ">> #### **Exemplo de Sistemas de Controle**\n",
    "\n",
    ">> + Controle Automático de Altitude\n",
    ">> + Filtrar os Sinais dos Sensores (Barómetro, Acelerômetro, GPS etc)\n",
    ">> + Sistema de Controle da Estabilidade do veículo\n",
    ">> + etc\n",
    "\n",
    "<br/>\n",
    "\n",
    "\n",
    "\n",
    "<br/>\n",
    "<br/>\n",
    "\n",
    "## **Aplicações no Sistema Financeiro**\n",
    "\n",
    "<br/>\n",
    "\n",
    "<center><img src=\"https://github.com/Oseiasdfarias/repo_analise_sistemas_lineares/blob/main/utils/aplicacao_asl_controle_sistema/Aplicacao_realimentacao_controle_1.png?raw=true\"width=\"600\"></center>\n",
    "\n",
    "\n",
    "<br/>\n",
    "\n",
    ">> ### **Setores**\n",
    "\n",
    ">> + Mercados e Câmbio\n",
    ">> + Cadeias de Serviços e Suprimentos\n",
    "\n",
    "<br/>\n",
    "<br/>\n",
    "<br/>\n",
    "<br/>\n",
    "\n",
    "---\n",
    "---\n",
    "\n",
    "<br/>\n",
    "<br/>\n",
    "<br/>\n",
    "<br/>"
   ]
  },
  {
   "cell_type": "markdown",
   "metadata": {
    "id": "l_6HQHiWqGRM"
   },
   "source": [
    "# <center>**EXEMPLO**<center/>\n",
    "\n",
    "<br/>"
   ]
  },
  {
   "cell_type": "markdown",
   "metadata": {
    "id": "3Zi3JiAZFuUl"
   },
   "source": [
    "\n",
    "## <center> **Modelagem Matemática do Circuito RC** <center/>\n",
    "\n",
    "<br/>\n",
    "\n",
    "\n",
    "  >**Prof. Heraldo L. S. Almeida - Universidade Federal do Rio de Janeiro | Escola Politécnica**\n",
    "\n",
    "  >> _“Para obter um **controlador** capaz de garantir que a resposta do **sistema em malha fechada** cumpra os requisitos desejados, faz-se necessário um modelo matemático do sistema a ser controlado._\n",
    "  \n",
    " >> _O **modelo matemático** é construído com base em **hipóteses** e **simplificações** a respeito da dinâmica do sistema físico modelado.\n",
    "”_\n",
    "\n",
    ">> _As respostas previstas pelo modelo são obtidas por meio de análise **matemática** e/ou **simulações em computador**._\n",
    "\n",
    "\n",
    "<br/><br/>\n",
    "\n",
    "<center><img src=\"https://github.com/Oseiasdfarias/repo_analise_sistemas_lineares/blob/main/utils/Diagrama_sistemas/modelagem_matematica_diagrama.png?raw=true\" width=\"900\"></center>\n",
    "\n",
    "<br/><br/>\n",
    "\n",
    "**Onde:**\n",
    "\n",
    ">> $V_i$ : Tensão de entrada\n",
    "\n",
    ">> $R$ : Resistência do Resistor\n",
    "\n",
    ">> $C$ : Capacitância do Capacitor\n",
    "\n",
    ">> $V_o$ : Tensão nos terminais do Capacitor\n",
    "\n",
    "\n",
    "<br/>\n",
    "\n",
    "### **Encontrando o Modelo do Sistema no Domínio de Laplase:**\n",
    "\n",
    "> A **saida do sistema** é a tensão em cima do capacitor, logo $V_o = V_c$ que por sua vez é a tensão de entrada $V_i$ menos a tensão no Resistor $V_R$.\n",
    "\n",
    "<br/>\n",
    "\n",
    "$$V_o = V_c = V_i - V_o$$  \n",
    "$$(Eq-01)$$\n",
    "\n",
    "\n",
    "<br/>\n",
    "\n",
    "> A tensão no Resistor e dada por $V_R = R.I_R$, como o circuito em questão é em séria, a corrente no capacitor é a mesma do Resistor, logo. temos a seguinte relação:\n",
    "\n",
    "\n",
    "<br/>\n",
    "\n",
    "$$V_R = RI_c = RC\\dfrac {d(V_c)}{dt}$$\n",
    "\n",
    "$$(Eq-02)$$\n",
    "\n",
    "<br/>\n",
    "\n",
    "> Substituido os valores de $(Eq-01)$ em $(Eq-02)$ temos:\n",
    "\n",
    "<br/>\n",
    "\n",
    "$$V_o = V_i - RC\\dfrac {d(V_o)}{dt}$$  \n",
    "\n",
    "<br/>\n",
    "\n",
    "> colocando a entrada $V_i$ de um lado e $V_o$ do outro, temos:\n",
    "<br/>\n",
    "\n",
    "$$V_i = RC\\dfrac {d(V_o)}{dt} + V_o$$  \n",
    "\n",
    "<br/>\n",
    "\n",
    "> Agora que encontramos a **EDO** que representa nosso **Circuito RC**, vamos aplicar a **transformada de Laplace**:\n",
    "<br/><br/>\n",
    "\n",
    "$$V_i = RCsV_o + V_o$$  \n",
    "\n",
    "<br/>\n",
    "\n",
    "> Encontrando a **Função de Transferência do Circuito RC com saída no Capacitor**\n",
    "<br/>\n",
    "\n",
    "$$H(s) = \\dfrac{V_o}{V_i} = \\dfrac{1}{RCs + 1}$$  \n",
    " \n",
    ">> **OU**\n",
    "\n",
    "$$H(s) = \\dfrac{V_o}{V_i} = \\dfrac{\\frac{1}{RC}}{{s + \\frac{1}{RC}}}$$  \n",
    "\n",
    "> **onde:**\n",
    ">> Capacitor: $C = 10\\mu F$\n",
    "\n",
    ">> Resistor: $R = 20k\\Omega$\n",
    "\n",
    "<br/>\n",
    "\n",
    "> Aplicando esses valores na **função de transferencia**, temos:\n",
    "\n",
    "$$H(s) = \\dfrac{V_o}{V_i} = \\dfrac{\\frac{1}{(20e3)(10e-6)}}{{s + \\frac{1}{(20e3)(10e-6)}}}$$\n",
    "\n",
    "\n",
    "<br/>\n",
    "\n",
    "$$H(s) = \\dfrac{5 }{s + 5}$$ \n",
    "\n",
    "\n",
    "\n",
    "<br/>\n",
    "<br/>\n",
    "<br/>\n",
    "\n",
    "---\n",
    "\n",
    "<br/>\n",
    "<br/>\n",
    "<br/>"
   ]
  },
  {
   "cell_type": "markdown",
   "metadata": {
    "id": "U7yQj8wgVGkE"
   },
   "source": [
    "\n",
    "## <center> **Controle em Malha Fechada do Circuito (RC)** <center/>\n",
    "\n",
    "<br/><br/><br/>\n",
    "<center><img src=\"https://github.com/Oseiasdfarias/repo_analise_sistemas_lineares/blob/main/utils/Diagrama_sistemas/sistemas_de_controle_CIRCUITOrc.png?raw=true\" width=\"900\"></center>\n",
    "\n",
    "> **Onde:**\n",
    ">> Modelo do Circuito RC: \n",
    "$$H(s) = \\dfrac{5}{s + 5}$$\n",
    "\n",
    ">> Sensor:\n",
    "$$P(s) = 1$$\n",
    "\n",
    ">> Controlador:\n",
    "$$C(s) = K$$\n",
    "\n",
    "\n",
    "<br/>\n",
    "\n",
    "> ### **Aplicando a Teoria de Controle em Malha Fechada**\n",
    "> Função de **Transferência Geral para o Sistema em Malha Fechada** é dada por:\n",
    "\n",
    "<br/>\n",
    "\n",
    "$$G(s) = \\dfrac{C(s)H(s)}{1 + C(s)H(s)P(s)}$$\n",
    "\n",
    "<br/>\n",
    "\n",
    "<br/>\n",
    "\n",
    "\n",
    "> Substituindo os valores temos:\n",
    "\n",
    "<br/>\n",
    "\n",
    "\n",
    "$$G(s) = \\dfrac{KH(s)}{1 + KH(s)P(s)}$$\n",
    "\n",
    "\n",
    "\n",
    "<br/>\n",
    "\n",
    "$$G(s) = \\dfrac{K\\dfrac{5}{s + 5}}{1 + K\\dfrac{5 }{s + 5}1}$$\n",
    "\n",
    "<br/>\n",
    "<br/>\n",
    "\n",
    "> Simplificando a equação, temos:\n",
    "<br/>\n",
    "<br/>\n",
    "\n",
    "$$G(s) = \\dfrac{\\dfrac{5K}{s + 5}}{1 + \\dfrac{5K}{s + 5}}$$\n",
    "\n",
    "<br/>\n",
    "<br/>\n",
    "\n",
    "> Aplicar as propriedades das frações:$\\quad \\frac{\\frac{a}{b}}{c}=\\frac{a}{b\\cdot \\:c}$\n",
    "<br/>\n",
    "<br/>\n",
    "\n",
    "$$G(s) =\\frac{5K}{\\left(s+5\\right)\\left(1+\\frac{5K}{s+5}\\right)}$$\n",
    "\n",
    "<br/>\n",
    "<br/>\n",
    "\n",
    "> Simplificando  $(1+\\frac{5K}{s+5})$\n",
    "<br/>\n",
    "\n",
    "$$(\\frac{s+5+5K}{s+5})$$\n",
    "\n",
    "> Substituindo na equação x:\n",
    "\n",
    "<br/>\n",
    "<br/>\n",
    "\n",
    "$$G(s) =\\frac{5K}{\\left(s+5\\right)(\\frac{s+5+5K}{s+5})}$$\n",
    "\n",
    "<br/>\n",
    "<br/>\n",
    "\n",
    "> **Função de Transferência em Malha Fechada** do nosso sistema de Controle é dada por:\n",
    "\n",
    "<br/>\n",
    "<br/>\n",
    "\n",
    "$$G(s) =\\frac{5K}{s+5+5K}$$\n",
    "\n",
    "\n",
    "\n",
    "<br/>\n",
    "<br/>\n",
    "<br/>\n",
    "\n",
    "---\n",
    "\n",
    "<br/>\n",
    "<br/>\n",
    "<br/>"
   ]
  },
  {
   "cell_type": "markdown",
   "metadata": {
    "id": "Jrya3iN-gVVo"
   },
   "source": [
    "## <center> **Simulação com Python** <center/>"
   ]
  },
  {
   "cell_type": "markdown",
   "metadata": {
    "id": "BjD8kifl9uZk"
   },
   "source": [
    "### **Instalando a Biblioteca Control**\n"
   ]
  },
  {
   "cell_type": "code",
   "execution_count": null,
   "metadata": {
    "colab": {
     "base_uri": "https://localhost:8080/"
    },
    "id": "iTH7jL8yq9US",
    "outputId": "fea351b2-6ff8-4913-df40-47a6ffc536bb"
   },
   "outputs": [
    {
     "name": "stdout",
     "output_type": "stream",
     "text": [
      "Requirement already satisfied: control in /usr/local/lib/python3.7/dist-packages (0.9.0)\n",
      "Requirement already satisfied: numpy in /usr/local/lib/python3.7/dist-packages (from control) (1.19.5)\n",
      "Requirement already satisfied: scipy in /usr/local/lib/python3.7/dist-packages (from control) (1.4.1)\n",
      "Requirement already satisfied: matplotlib in /usr/local/lib/python3.7/dist-packages (from control) (3.2.2)\n",
      "Requirement already satisfied: cycler>=0.10 in /usr/local/lib/python3.7/dist-packages (from matplotlib->control) (0.10.0)\n",
      "Requirement already satisfied: kiwisolver>=1.0.1 in /usr/local/lib/python3.7/dist-packages (from matplotlib->control) (1.3.2)\n",
      "Requirement already satisfied: python-dateutil>=2.1 in /usr/local/lib/python3.7/dist-packages (from matplotlib->control) (2.8.2)\n",
      "Requirement already satisfied: pyparsing!=2.0.4,!=2.1.2,!=2.1.6,>=2.0.1 in /usr/local/lib/python3.7/dist-packages (from matplotlib->control) (2.4.7)\n",
      "Requirement already satisfied: six in /usr/local/lib/python3.7/dist-packages (from cycler>=0.10->matplotlib->control) (1.15.0)\n"
     ]
    }
   ],
   "source": [
    "! pip3 install control"
   ]
  },
  {
   "cell_type": "markdown",
   "metadata": {
    "id": "_cn6tv2OrLpi"
   },
   "source": [
    "### **Importando as Bibliotecas necessárias para a simulação**"
   ]
  },
  {
   "cell_type": "code",
   "execution_count": 1,
   "metadata": {
    "id": "MKbVjKJurGfj"
   },
   "outputs": [],
   "source": [
    "import control as ctl \n",
    "import matplotlib.pyplot as plt\n",
    "import numpy as np"
   ]
  },
  {
   "cell_type": "markdown",
   "metadata": {
    "id": "dT7dLDMVrcUb"
   },
   "source": [
    "### **Código de Simulação**"
   ]
  },
  {
   "cell_type": "code",
   "execution_count": 2,
   "metadata": {
    "id": "pObfHhZ7ri45"
   },
   "outputs": [],
   "source": [
    "# Variáveis da Simulação\n",
    "R = 20.0e3\n",
    "C = 10.0e-6\n",
    "tau = R*C\n",
    "Temp_simu = 2.0\n",
    "\n",
    "\n",
    "def Simulacao_RC(K_p = 3.0):\n",
    "  # Cria a Função de Transferência em Malha Aberta\n",
    "  numerador = [1/tau]\n",
    "  denominador = [1.0, 1/tau]\n",
    "  H_s = ctl.tf(numerador, denominador)\n",
    "  print(f\"\\n\\n> Função de Transferência em Malha Aberta:\\n {H_s}\")\n",
    "\n",
    "  # Cria a Função de Transferência do Controlador\n",
    "  C_s=ctl.tf([K_p],[1.])\n",
    "  print(f\"\\n> Função de Transferência do Controlador:\\n {C_s}\")\n",
    "\n",
    "  # Cria a Função de Transferência do Sensor\n",
    "  P_s=ctl.tf([1.],[1.])\n",
    "\n",
    "  # Função de Transferência em Malha Fechada\n",
    "  # G1_s=(C_s*H_s)/(1+C_s*H_s*P_s)\n",
    "  G_s=ctl.series(C_s, H_s);\n",
    "  G1_s=ctl.feedback(G_s, P_s, sign=-1);\n",
    "  print(f\"\\n> Função de Transferência em Malha fechada:\\n {G1_s}\")\n",
    "\n",
    "  # Calcula a resposta ao Degrau Unitário\n",
    "  T_mf, yout_mf = ctl.step_response(G1_s, Temp_simu)\n",
    "\n",
    "  # Plotando a resposta ao Degrau usando o metodo plt.plot() da biblioteca matplotlib\n",
    "  plt.figure(figsize=(15, 7))\n",
    "  plt.plot(T_mf, yout_mf, linewidth = 1.2)\n",
    "\n",
    "  # Plotando o degrau unitário\n",
    "  Temp_deg = np.linspace(-0.2, Temp_simu, 1000)\n",
    "  degrau = np.ones_like(Temp_deg)\n",
    "  degrau[Temp_deg < 0] = 0\n",
    "  plt.plot(Temp_deg, degrau, color = \"r\", linestyle = \"--\", linewidth = 1.2)\n",
    "  if K_p > 0:\n",
    "    plt.xticks(np.linspace(0, 2, 20))\n",
    "    plt.yticks(np.linspace(0, 1, 20))\n",
    "\n",
    "  # Customizando a figura com Titulo,  Títulos nos eixos, Legenda e Grid\n",
    "  plt.title(\"Circuito RC - Resposta ao Degrau em Malha Fechada\", fontweight=\"bold\", fontsize =  17)\n",
    "  plt.ylabel(\"Tensão no Capacitor (V)\", fontweight=\"bold\", fontsize = 14)\n",
    "  plt.xlabel(\"Tempo (s)\", fontweight=\"bold\", fontsize = 14)\n",
    "  plt.legend([\"Resposta ao Degrau\", \"Degrau Unitário\"], fontsize = 14)\n",
    "  #plt.grid()\n",
    "  plt.show()\n",
    "\n",
    "\n"
   ]
  },
  {
   "cell_type": "markdown",
   "metadata": {
    "id": "Of-Vly4Nr7rH"
   },
   "source": [
    "### **Simulações para  Kp = 3**"
   ]
  },
  {
   "cell_type": "code",
   "execution_count": 3,
   "metadata": {
    "colab": {
     "base_uri": "https://localhost:8080/",
     "height": 862
    },
    "id": "VwepvZ4WrsXA",
    "outputId": "f40b6454-cfef-4557-a2a1-1a038a510e96"
   },
   "outputs": [
    {
     "name": "stdout",
     "output_type": "stream",
     "text": [
      "\n",
      "\n",
      "> Função de Transferência em Malha Aberta:\n",
      " \n",
      "  5\n",
      "-----\n",
      "s + 5\n",
      "\n",
      "\n",
      "> Função de Transferência do Controlador:\n",
      " \n",
      "3\n",
      "-\n",
      "1\n",
      "\n",
      "\n",
      "> Função de Transferência em Malha fechada:\n",
      " \n",
      "  15\n",
      "------\n",
      "s + 20\n",
      "\n"
     ]
    },
    {
     "data": {
      "image/png": "[encoded data removed]",
      "text/plain": [
       "<Figure size 1080x504 with 1 Axes>"
      ]
     },
     "metadata": {
      "needs_background": "light"
     },
     "output_type": "display_data"
    }
   ],
   "source": [
    "Simulacao_RC()"
   ]
  },
  {
   "cell_type": "markdown",
   "metadata": {
    "id": "2IPBb1cis3HM"
   },
   "source": [
    "<br/>\n",
    "\n",
    "### **Simulações para  Kp = 4**\n"
   ]
  },
  {
   "cell_type": "code",
   "execution_count": null,
   "metadata": {
    "colab": {
     "base_uri": "https://localhost:8080/",
     "height": 862
    },
    "id": "6Y5Eomcgrwqg",
    "outputId": "6e92929b-30b5-4339-ef55-f12e57687e50"
   },
   "outputs": [
    {
     "name": "stdout",
     "output_type": "stream",
     "text": [
      "\n",
      "\n",
      "> Função de Transferência em Malha Aberta:\n",
      " \n",
      "  5\n",
      "-----\n",
      "s + 5\n",
      "\n",
      "\n",
      "> Função de Transferência do Controlador:\n",
      " \n",
      "4\n",
      "-\n",
      "1\n",
      "\n",
      "\n",
      "> Função de Transferência em Malha fechada:\n",
      " \n",
      "  20\n",
      "------\n",
      "s + 25\n",
      "\n"
     ]
    },
    {
     "data": {
      "image/png": "[encoded data removed]",
      "text/plain": [
       "<Figure size 1080x504 with 1 Axes>"
      ]
     },
     "metadata": {
      "needs_background": "light"
     },
     "output_type": "display_data"
    }
   ],
   "source": [
    "Simulacao_RC(K_p = 4.0)"
   ]
  },
  {
   "cell_type": "markdown",
   "metadata": {
    "id": "oror9lOktDX5"
   },
   "source": [
    "<br/>\n",
    "\n",
    "### **Simulações para  Kp = 0**\n"
   ]
  },
  {
   "cell_type": "code",
   "execution_count": null,
   "metadata": {
    "colab": {
     "base_uri": "https://localhost:8080/",
     "height": 862
    },
    "id": "NsX-5WN4rx3f",
    "outputId": "520d0d0e-a137-4bdb-af09-34ed709dfc9d"
   },
   "outputs": [
    {
     "name": "stdout",
     "output_type": "stream",
     "text": [
      "\n",
      "\n",
      "> Função de Transferência em Malha Aberta:\n",
      " \n",
      "  5\n",
      "-----\n",
      "s + 5\n",
      "\n",
      "\n",
      "> Função de Transferência do Controlador:\n",
      " \n",
      "0\n",
      "-\n",
      "1\n",
      "\n",
      "\n",
      "> Função de Transferência em Malha fechada:\n",
      " \n",
      "0\n",
      "-\n",
      "1\n",
      "\n"
     ]
    },
    {
     "data": {
      "image/png": "[encoded data removed]",
      "text/plain": [
       "<Figure size 1080x504 with 1 Axes>"
      ]
     },
     "metadata": {
      "needs_background": "light"
     },
     "output_type": "display_data"
    }
   ],
   "source": [
    "Simulacao_RC(K_p = 0.0)"
   ]
  },
  {
   "cell_type": "markdown",
   "metadata": {
    "id": "zwJZClzXtS-A"
   },
   "source": [
    "<br/>\n",
    "\n",
    "### **Simulações para  Kp = -1**\n"
   ]
  },
  {
   "cell_type": "code",
   "execution_count": null,
   "metadata": {
    "colab": {
     "base_uri": "https://localhost:8080/",
     "height": 862
    },
    "id": "00lZKNACr1vs",
    "outputId": "c546616f-9464-48e1-d98e-252034987fb1"
   },
   "outputs": [
    {
     "name": "stdout",
     "output_type": "stream",
     "text": [
      "\n",
      "\n",
      "> Função de Transferência em Malha Aberta:\n",
      " \n",
      "  5\n",
      "-----\n",
      "s + 5\n",
      "\n",
      "\n",
      "> Função de Transferência do Controlador:\n",
      " \n",
      "-1\n",
      "--\n",
      "1\n",
      "\n",
      "\n",
      "> Função de Transferência em Malha fechada:\n",
      " \n",
      "-5\n",
      "--\n",
      "s\n",
      "\n"
     ]
    },
    {
     "data": {
      "image/png": "[encoded data removed]",
      "text/plain": [
       "<Figure size 1080x504 with 1 Axes>"
      ]
     },
     "metadata": {
      "needs_background": "light"
     },
     "output_type": "display_data"
    }
   ],
   "source": [
    "Simulacao_RC(K_p = -1.0)"
   ]
  },
  {
   "cell_type": "markdown",
   "metadata": {
    "id": "b8Oa7zN2tYOm"
   },
   "source": [
    "<br/>\n",
    "\n",
    "### **Simulações para  Kp = -4**\n"
   ]
  },
  {
   "cell_type": "code",
   "execution_count": null,
   "metadata": {
    "colab": {
     "base_uri": "https://localhost:8080/",
     "height": 862
    },
    "id": "Hc8ZUrZBr4I7",
    "outputId": "eb95e845-f836-44ba-c557-5d218fafe8a2"
   },
   "outputs": [
    {
     "name": "stdout",
     "output_type": "stream",
     "text": [
      "\n",
      "\n",
      "> Função de Transferência em Malha Aberta:\n",
      " \n",
      "  5\n",
      "-----\n",
      "s + 5\n",
      "\n",
      "\n",
      "> Função de Transferência do Controlador:\n",
      " \n",
      "-4\n",
      "--\n",
      "1\n",
      "\n",
      "\n",
      "> Função de Transferência em Malha fechada:\n",
      " \n",
      " -20\n",
      "------\n",
      "s - 15\n",
      "\n"
     ]
    },
    {
     "data": {
      "image/png": "[encoded data removed]",
      "text/plain": [
       "<Figure size 1080x504 with 1 Axes>"
      ]
     },
     "metadata": {
      "needs_background": "light"
     },
     "output_type": "display_data"
    }
   ],
   "source": [
    "Simulacao_RC(K_p = -4.0)"
   ]
  },
  {
   "cell_type": "markdown",
   "metadata": {
    "id": "EM0miitijx6B"
   },
   "source": [
    "<br/>\n",
    "<br/>\n",
    "<br/>\n",
    "\n",
    "---\n",
    "\n",
    "---\n",
    "\n",
    "<br/>\n",
    "<br/>\n",
    "<br/>\n",
    "\n",
    "# <center> **PROPOSIÇÃO DE EXERCÍCIO** </center>"
   ]
  },
  {
   "cell_type": "markdown",
   "metadata": {
    "id": "9QbuPXhCuRXJ"
   },
   "source": [
    "\n",
    "### **Modelagem Matemática de um Circuito RLC Série**\n",
    "\n",
    "<br/>\n",
    "\n",
    ">> Como Proposta de Exercício, Faça a Modelagem Matemática de um Circuito **RLC** Série, use a tensão no Capacitor $V_c$ como saida $V_o$ do sistema e a tensão $V_i$ com entrada.\n",
    "\n",
    ">> Tendo obtido a Função de Transferência do sistema, modele um sistema de controle em malha fechada como no exemplo anterior. Simule o sitemas com um sinal Dregrau Únitário e uma Rampa para diferentes valores de $K_p$.\n",
    "\n",
    "\n",
    "\n",
    "<br/><br/>\n",
    "\n",
    "<center><img src=\"https://github.com/Oseiasdfarias/repo_analise_sistemas_lineares/blob/main/utils/Diagrama_sistemas/proposicao_exercicio_circuito_RLC_SERIE.png?raw=true\" width=\"900\"></center>\n",
    "\n",
    "<br/><br/>"
   ]
  },
  {
   "cell_type": "markdown",
   "metadata": {
    "id": "UHEkyssnA6jQ"
   },
   "source": [
    "## <center> **Modelagem Matemática do Circuito RLC** <center/>\n",
    "\n",
    "### **Sua Solução ...**\n"
   ]
  },
  {
   "cell_type": "markdown",
   "metadata": {
    "id": "yYlQI6WUA9AK"
   },
   "source": [
    "## <center> **Controle em Malha Fechada do Circuito (RLC)** <center/>\n",
    "\n",
    "### **Sua Solução ...**\n",
    "\n"
   ]
  },
  {
   "cell_type": "markdown",
   "metadata": {
    "id": "vUOyvVoTBK99"
   },
   "source": [
    "## <center> **Simulação com Python** <center/>\n",
    "\n",
    "### **Sua Solução ...**\n"
   ]
  },
  {
   "cell_type": "code",
   "execution_count": null,
   "metadata": {
    "id": "MCwCVG5WAs_f"
   },
   "outputs": [],
   "source": [
    "# Código Python para simulação\n",
    "\n"
   ]
  },
  {
   "cell_type": "markdown",
   "metadata": {
    "id": "RDlGluYT2bDX"
   },
   "source": [
    "<br/>\n",
    "<br/>\n",
    "<br/>\n",
    "\n",
    "---\n",
    "\n",
    "---\n",
    "\n",
    "<br/>\n",
    "<br/>\n",
    "<br/>\n",
    "\n",
    "# <center> **REFERÊNCIAS** </center>"
   ]
  },
  {
   "cell_type": "markdown",
   "metadata": {
    "id": "OU-fsE_x2lHF"
   },
   "source": [
    ">>### **EM CONSTRUÇÃO ...**\n",
    "\n",
    "<br/><br/><br/><br/>"
   ]
  },
  {
   "cell_type": "code",
   "execution_count": null,
   "metadata": {
    "id": "IR_JKCJHj2az"
   },
   "outputs": [],
   "source": []
  }
 ],
 "metadata": {
  "colab": {
   "collapsed_sections": [],
   "include_colab_link": true,
   "name": "Aplicacao_em_Realimentacao_e_Controle.ipynb",
   "provenance": []
  },
  "kernelspec": {
   "display_name": "Python 3 (ipykernel)",
   "language": "python",
   "name": "python3"
  },
  "language_info": {
   "codemirror_mode": {
    "name": "ipython",
    "version": 3
   },
   "file_extension": ".py",
   "mimetype": "text/x-python",
   "name": "python",
   "nbconvert_exporter": "python",
   "pygments_lexer": "ipython3",
   "version": "3.8.10"
  }
 },
 "nbformat": 4,
 "nbformat_minor": 1
}
